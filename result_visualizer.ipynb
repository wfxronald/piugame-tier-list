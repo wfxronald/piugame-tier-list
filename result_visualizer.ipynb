{
 "cells": [
  {
   "cell_type": "code",
   "execution_count": null,
   "id": "8216e84e",
   "metadata": {},
   "outputs": [],
   "source": [
    "import json"
   ]
  },
  {
   "cell_type": "code",
   "execution_count": null,
   "id": "d123529b",
   "metadata": {},
   "outputs": [],
   "source": [
    "with open(\"final_data.json\", \"r\", encoding=\"utf8\") as file:\n",
    "    data = json.load(file)\n",
    "    \n",
    "    songs = data['D26']\n",
    "    sorted_songs = sorted(songs, key=lambda x: x['n'])\n",
    "    \n",
    "    grouped = []\n",
    "    idx = 0\n",
    "    while idx < len(sorted_songs):\n",
    "        increment = len(sorted_songs)//3\n",
    "        grouped.append(sorted_songs[idx:idx+increment])\n",
    "        idx += increment\n",
    "\n",
    "# Dump result into a json file\n",
    "with open(\"d26.json\", \"w\") as outfile:\n",
    "    json.dump(grouped, outfile)"
   ]
  },
  {
   "cell_type": "code",
   "execution_count": null,
   "id": "b88bcbd9",
   "metadata": {},
   "outputs": [],
   "source": [
    "with open(\"final_data.json\", \"r\", encoding=\"utf8\") as file:\n",
    "    data = json.load(file)\n",
    "\n",
    "    songs = data['D25']\n",
    "    sorted_songs = sorted(songs, key=lambda x: x['total']/x['n'])\n",
    "    \n",
    "    grouped = []\n",
    "    idx = 0\n",
    "    while idx < len(sorted_songs):\n",
    "        increment = len(sorted_songs)//5\n",
    "        grouped.append(sorted_songs[idx:idx+increment])\n",
    "        idx += increment\n",
    "\n",
    "# Dump result into a json file\n",
    "with open(\"d25.json\", \"w\") as outfile:\n",
    "    json.dump(grouped, outfile)"
   ]
  },
  {
   "cell_type": "code",
   "execution_count": null,
   "id": "5cad8564",
   "metadata": {},
   "outputs": [],
   "source": []
  }
 ],
 "metadata": {
  "kernelspec": {
   "display_name": "Python 3",
   "language": "python",
   "name": "python3"
  },
  "language_info": {
   "codemirror_mode": {
    "name": "ipython",
    "version": 3
   },
   "file_extension": ".py",
   "mimetype": "text/x-python",
   "name": "python",
   "nbconvert_exporter": "python",
   "pygments_lexer": "ipython3",
   "version": "3.8.10"
  }
 },
 "nbformat": 4,
 "nbformat_minor": 5
}
