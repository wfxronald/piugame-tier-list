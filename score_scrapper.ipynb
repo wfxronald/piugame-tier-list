{
 "cells": [
  {
   "cell_type": "code",
   "execution_count": null,
   "id": "ae174592",
   "metadata": {},
   "outputs": [],
   "source": [
    "from urllib.request import build_opener, HTTPCookieProcessor\n",
    "from bs4 import BeautifulSoup\n",
    "\n",
    "import json"
   ]
  },
  {
   "cell_type": "code",
   "execution_count": null,
   "id": "b5e35d24",
   "metadata": {},
   "outputs": [],
   "source": [
    "# Create page opener with cookie\n",
    "page_opener = build_opener(HTTPCookieProcessor())"
   ]
  },
  {
   "cell_type": "code",
   "execution_count": null,
   "id": "f8d286c1",
   "metadata": {},
   "outputs": [],
   "source": [
    "# Constants\n",
    "site = \"https://piugame.com/leaderboard/\"\n",
    "ranking_link = site + 'over_ranking.php'"
   ]
  },
  {
   "cell_type": "code",
   "execution_count": null,
   "id": "32018851",
   "metadata": {},
   "outputs": [],
   "source": [
    "# Open the page\n",
    "first_page = page_opener.open(ranking_link)\n",
    "soup = BeautifulSoup(first_page, 'html.parser')\n",
    "\n",
    "# Get last page\n",
    "last_page = None\n",
    "icons = soup.find_all(\"button\", class_=\"icon\")\n",
    "for icon in icons:\n",
    "    page = int(icon['onclick'].split(\"page=\")[1][:-1])\n",
    "    if \"last\" in icon.findChildren()[0]['class']:\n",
    "        last_page = page\n",
    "print(last_page)"
   ]
  },
  {
   "cell_type": "code",
   "execution_count": null,
   "id": "61519c2a",
   "metadata": {},
   "outputs": [],
   "source": [
    "# helper\n",
    "def get_song_title(song_soup):\n",
    "    return song_soup.find_all(\"div\", class_=\"songName_w\")[0].findChildren(\"p\")[0].text"
   ]
  },
  {
   "cell_type": "code",
   "execution_count": null,
   "id": "e3e5ce42",
   "metadata": {},
   "outputs": [],
   "source": [
    "def get_song_level(song_soup):\n",
    "    level = \"\"\n",
    "    \n",
    "    song_lvl_img_collection = song_soup.find_all(\"div\", class_=\"stepBall_img_wrap\")[0].find_all(\"img\")\n",
    "    for img in song_lvl_img_collection:\n",
    "        text_to_analyse = img['src']\n",
    "\n",
    "        # check step type\n",
    "        if \"s_text\" in text_to_analyse:\n",
    "            level += \"S\"\n",
    "        elif \"d_text\" in text_to_analyse:\n",
    "            level += \"D\"\n",
    "        elif \"c_text\" in text_to_analyse:\n",
    "            level += \"C\"\n",
    "\n",
    "        # check level\n",
    "        if \"_num_\" in text_to_analyse:\n",
    "            # format is \"_num_2.png\", get the element after _num_ and the first character only\n",
    "            level += text_to_analyse.split(\"_num_\")[1][0]\n",
    "    \n",
    "    return level"
   ]
  },
  {
   "cell_type": "code",
   "execution_count": null,
   "id": "aa48a376",
   "metadata": {},
   "outputs": [],
   "source": [
    "def get_song_image_id(song_soup):\n",
    "    song_img_div = song_soup.find_all(\"div\", class_=\"songImg_w\")[0].findChildren()\n",
    "    for div in song_img_div:\n",
    "        if div.has_attr('style'):\n",
    "            text_to_parse = div['style']\n",
    "            img_id = text_to_parse.split(\"/song_img/\")[1].split(\".png\")[0]\n",
    "            return img_id"
   ]
  },
  {
   "cell_type": "code",
   "execution_count": null,
   "id": "3339bf09",
   "metadata": {
    "scrolled": true
   },
   "outputs": [],
   "source": [
    "result = {}\n",
    "\n",
    "# Loop from current page until last page\n",
    "for index in range(1, last_page + 1):\n",
    "    print(\"current page: \", str(index))\n",
    "    url_to_access = ranking_link + \"?&&page=\" + str(index)\n",
    "    \n",
    "    curr_page = page_opener.open(url_to_access)\n",
    "    curr_soup = BeautifulSoup(curr_page, 'html.parser')\n",
    "    \n",
    "    # assume exactly 1 list\n",
    "    div_with_song_list = curr_soup.find_all(\"ul\", \"rating_ranking_list\")[0]\n",
    "    \n",
    "    # loop through all songs in a page\n",
    "    items = div_with_song_list.find_all(\"li\")\n",
    "    for item in items:\n",
    "        song_link = item.findChildren(\"a\")[0]['href']\n",
    "        \n",
    "        complete_song_url = site + song_link\n",
    "        song_page = page_opener.open(complete_song_url)\n",
    "        song_soup = BeautifulSoup(song_page, 'html.parser')\n",
    "        \n",
    "        # get song title, level, and id\n",
    "        song_name = get_song_title(song_soup)\n",
    "        level = get_song_level(song_soup)\n",
    "        song_img_id = get_song_image_id(song_soup)\n",
    "        \n",
    "        # get all scores\n",
    "        scores = []\n",
    "        score_divs = song_soup.find_all(\"div\", class_=\"score\")\n",
    "        for score in score_divs:\n",
    "            str_score = score.findChildren(\"i\")[0].string\n",
    "            scores.append(int(str_score.replace(',', '')))\n",
    "        \n",
    "        # put into result\n",
    "        to_insert = {\"title\": song_name, \"img_id\": song_img_id, \"total\": sum(scores), \"n\": len(scores)}\n",
    "        if level not in result:\n",
    "            result[level] = [to_insert]\n",
    "        else:\n",
    "            result[level].append(to_insert)"
   ]
  },
  {
   "cell_type": "code",
   "execution_count": null,
   "id": "df206496",
   "metadata": {},
   "outputs": [],
   "source": [
    "# Dump result into a json file\n",
    "with open(\"final_data.json\", \"w\") as outfile:\n",
    "    json.dump(result, outfile)"
   ]
  }
 ],
 "metadata": {
  "kernelspec": {
   "display_name": "Python 3",
   "language": "python",
   "name": "python3"
  },
  "language_info": {
   "codemirror_mode": {
    "name": "ipython",
    "version": 3
   },
   "file_extension": ".py",
   "mimetype": "text/x-python",
   "name": "python",
   "nbconvert_exporter": "python",
   "pygments_lexer": "ipython3",
   "version": "3.8.10"
  }
 },
 "nbformat": 4,
 "nbformat_minor": 5
}
